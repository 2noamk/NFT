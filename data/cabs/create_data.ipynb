{
 "cells": [
  {
   "cell_type": "code",
   "execution_count": 7,
   "metadata": {},
   "outputs": [
    {
     "name": "stdout",
     "output_type": "stream",
     "text": [
      "Conversion complete!\n"
     ]
    }
   ],
   "source": [
    "import csv\n",
    "import os\n",
    "\n",
    "# Directory containing your .txt files\n",
    "input_directory = '/home/noam.koren/multiTS/NFT/data/cabs/cabspottingdata'\n",
    "output_directory = '/home/noam.koren/multiTS/NFT/data/cabs/cabs_csv'\n",
    "\n",
    "# Make sure the output directory exists\n",
    "os.makedirs(output_directory, exist_ok=True)\n",
    "\n",
    "# Process each .txt file in the directory\n",
    "for filename in os.listdir(input_directory):\n",
    "    if filename.endswith('.txt'):\n",
    "        input_path = os.path.join(input_directory, filename)\n",
    "        output_path = os.path.join(output_directory, filename.replace('.txt', '.csv'))\n",
    "\n",
    "        with open(input_path, 'r') as infile, open(output_path, 'w', newline='') as outfile:\n",
    "            writer = csv.writer(outfile)\n",
    "            # Uncomment the next line if you want to add a header\n",
    "            # writer.writerow(['Latitude', 'Longitude', 'Flag', 'Timestamp'])\n",
    "\n",
    "            for line in infile:\n",
    "                writer.writerow(line.split())\n",
    "\n",
    "print(\"Conversion complete!\")\n"
   ]
  },
  {
   "cell_type": "code",
   "execution_count": 6,
   "metadata": {},
   "outputs": [
    {
     "name": "stdout",
     "output_type": "stream",
     "text": [
      "1\n",
      "Number of files in the directory: 536\n"
     ]
    }
   ],
   "source": [
    "import os\n",
    "directory_path = '/home/noam.koren/multiTS/NFT/data/cabs/cabspottingdata/'\n",
    "\n",
    "all_files_and_directories = os.listdir(directory_path)\n",
    "\n",
    "only_files = [f for f in all_files_and_directories if os.path.isfile(os.path.join(directory_path, f))]\n",
    "\n",
    "num_files = len(only_files)\n",
    "\n",
    "print(f\"Number of files in the directory: {num_files}\")\n"
   ]
  },
  {
   "cell_type": "code",
   "execution_count": 1,
   "metadata": {},
   "outputs": [],
   "source": [
    "import shutil\n",
    "import os\n",
    "\n",
    "# Path to the source and destination directories\n",
    "source_dir = \"/home/noam.koren/multiTS/NFT/data/cabs/cabs_pkl\"\n",
    "destination_dir = \"/home/noam.koren/multiTS/NFT/data/cabs/cabs_150_pkl\"\n",
    "\n",
    "# Ensure destination directory exists\n",
    "os.makedirs(destination_dir, exist_ok=True)\n",
    "\n",
    "# List of filenames in the source directory\n",
    "filenames = os.listdir(source_dir)\n",
    "\n",
    "# Copy the first 600 files\n",
    "for filename in filenames[:600]:\n",
    "    shutil.copy(os.path.join(source_dir, filename), destination_dir)\n"
   ]
  },
  {
   "cell_type": "code",
   "execution_count": null,
   "metadata": {},
   "outputs": [],
   "source": []
  }
 ],
 "metadata": {
  "kernelspec": {
   "display_name": "multTS",
   "language": "python",
   "name": "python3"
  },
  "language_info": {
   "codemirror_mode": {
    "name": "ipython",
    "version": 3
   },
   "file_extension": ".py",
   "mimetype": "text/x-python",
   "name": "python",
   "nbconvert_exporter": "python",
   "pygments_lexer": "ipython3",
   "version": "3.9.16"
  }
 },
 "nbformat": 4,
 "nbformat_minor": 2
}
