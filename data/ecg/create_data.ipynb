{
 "cells": [
  {
   "cell_type": "code",
   "execution_count": 2,
   "metadata": {},
   "outputs": [],
   "source": [
    "import scipy.io\n",
    "import pandas as pd\n",
    "import os\n",
    "import tqdm\n"
   ]
  },
  {
   "cell_type": "code",
   "execution_count": 7,
   "metadata": {},
   "outputs": [
    {
     "name": "stderr",
     "output_type": "stream",
     "text": [
      "  0%|          | 0/4 [00:00<?, ?it/s]"
     ]
    },
    {
     "name": "stdout",
     "output_type": "stream",
     "text": [
      "header_file=/home/noam.koren/multiTS/NFT/data/ecg/original_files/E00001.hea, file_number=1\n",
      "file_basename E00001\n",
      "csv_file /home/noam.koren/multiTS/NFT/data/ecg/original_files/E00001.csv\n",
      "Header Information for /home/noam.koren/multiTS/NFT/data/ecg/original_files/E00001.hea: ['E00001.mat 12 500 5000 05-May-2020 14:50:55\\n', 'E00001.mat 16+24 4880/mV 16 0 136 -28477 0 I\\n', 'E00001.mat 16+24 4880/mV 16 0 87 545 0 II\\n', 'E00001.mat 16+24 4880/mV 16 0 -48 29413 0 III\\n', 'E00001.mat 16+24 4880/mV 16 0 -112 -18879 0 aVR\\n', 'E00001.mat 16+24 4880/mV 16 0 92 -29015 0 aVL\\n', 'E00001.mat 16+24 4880/mV 16 0 19 -17384 0 aVF\\n', 'E00001.mat 16+24 4880/mV 16 0 -39 10780 0 V1\\n', 'E00001.mat 16+24 4880/mV 16 0 58 -22686 0 V2\\n', 'E00001.mat 16+24 4880/mV 16 0 87 -24025 0 V3\\n', 'E00001.mat 16+24 4880/mV 16 0 97 -26617 0 V4\\n', 'E00001.mat 16+24 4880/mV 16 0 87 21518 0 V5\\n', 'E00001.mat 16+24 4880/mV 16 0 78 25805 0 V6\\n', '#Age: NaN\\n', '#Sex: Female\\n', '#Dx: 426783006\\n', '#Rx: Unknown\\n', '#Hx: Unknown\\n', '#Sx: Unknown\\n']\n"
     ]
    },
    {
     "name": "stderr",
     "output_type": "stream",
     "text": [
      " 50%|█████     | 2/4 [00:00<00:00,  2.29it/s]"
     ]
    },
    {
     "name": "stdout",
     "output_type": "stream",
     "text": [
      "header_file=/home/noam.koren/multiTS/NFT/data/ecg/original_files/E00002.hea, file_number=2\n",
      "file_basename E00002\n",
      "csv_file /home/noam.koren/multiTS/NFT/data/ecg/original_files/E00002.csv\n",
      "Header Information for /home/noam.koren/multiTS/NFT/data/ecg/original_files/E00002.hea: ['E00002.mat 12 500 5000 05-May-2020 14:50:55\\n', 'E00002.mat 16+24 4880/mV 16 0 -29 22732 0 I\\n', 'E00002.mat 16+24 4880/mV 16 0 -48 14193 0 II\\n', 'E00002.mat 16+24 4880/mV 16 0 -19 -8085 0 III\\n', 'E00002.mat 16+24 4880/mV 16 0 39 -18578 0 aVR\\n', 'E00002.mat 16+24 4880/mV 16 0 -4 15736 0 aVL\\n', 'E00002.mat 16+24 4880/mV 16 0 -34 3242 0 aVF\\n', 'E00002.mat 16+24 4880/mV 16 0 9 7180 0 V1\\n', 'E00002.mat 16+24 4880/mV 16 0 0 -28031 0 V2\\n', 'E00002.mat 16+24 4880/mV 16 0 -19 27957 0 V3\\n', 'E00002.mat 16+24 4880/mV 16 0 -29 27216 0 V4\\n', 'E00002.mat 16+24 4880/mV 16 0 -29 -30966 0 V5\\n', 'E00002.mat 16+24 4880/mV 16 0 -39 -5123 0 V6\\n', '#Age: NaN\\n', '#Sex: Female\\n', '#Dx: 426783006\\n', '#Rx: Unknown\\n', '#Hx: Unknown\\n', '#Sx: Unknown\\n']\n",
      "header_file=/home/noam.koren/multiTS/NFT/data/ecg/original_files/E00003.hea, file_number=3\n",
      "file_basename E00003\n",
      "csv_file /home/noam.koren/multiTS/NFT/data/ecg/original_files/E00003.csv\n",
      "Header Information for /home/noam.koren/multiTS/NFT/data/ecg/original_files/E00003.hea: ['E00003.mat 12 500 5000 05-May-2020 14:50:55\\n', 'E00003.mat 16+24 4880/mV 16 0 24 -32229 0 I\\n', 'E00003.mat 16+24 4880/mV 16 0 19 -31280 0 II\\n', 'E00003.mat 16+24 4880/mV 16 0 -4 782 0 III\\n', 'E00003.mat 16+24 4880/mV 16 0 -21 -1190 0 aVR\\n', 'E00003.mat 16+24 4880/mV 16 0 14 -16700 0 aVL\\n', 'E00003.mat 16+24 4880/mV 16 0 7 17464 0 aVF\\n', 'E00003.mat 16+24 4880/mV 16 0 -24 15784 0 V1\\n', 'E00003.mat 16+24 4880/mV 16 0 -19 5533 0 V2\\n', 'E00003.mat 16+24 4880/mV 16 0 -34 17034 0 V3\\n', 'E00003.mat 16+24 4880/mV 16 0 -14 23934 0 V4\\n', 'E00003.mat 16+24 4880/mV 16 0 -9 -20855 0 V5\\n', 'E00003.mat 16+24 4880/mV 16 0 -14 9533 0 V6\\n', '#Age: NaN\\n', '#Sex: Male\\n', '#Dx: 426783006\\n', '#Rx: Unknown\\n', '#Hx: Unknown\\n', '#Sx: Unknown\\n']\n"
     ]
    },
    {
     "name": "stderr",
     "output_type": "stream",
     "text": [
      "100%|██████████| 4/4 [00:01<00:00,  3.63it/s]"
     ]
    },
    {
     "name": "stdout",
     "output_type": "stream",
     "text": [
      "header_file=/home/noam.koren/multiTS/NFT/data/ecg/original_files/E00004.hea, file_number=4\n",
      "file_basename E00004\n",
      "csv_file /home/noam.koren/multiTS/NFT/data/ecg/original_files/E00004.csv\n",
      "Header Information for /home/noam.koren/multiTS/NFT/data/ecg/original_files/E00004.hea: ['E00004.mat 12 500 5000 05-May-2020 14:50:55\\n', 'E00004.mat 16+24 4880/mV 16 0 19 -15417 0 I\\n', 'E00004.mat 16+24 4880/mV 16 0 -29 -1024 0 II\\n', 'E00004.mat 16+24 4880/mV 16 0 -48 14870 0 III\\n', 'E00004.mat 16+24 4880/mV 16 0 4 7928 0 aVR\\n', 'E00004.mat 16+24 4880/mV 16 0 34 17587 0 aVL\\n', 'E00004.mat 16+24 4880/mV 16 0 -39 -25847 0 aVF\\n', 'E00004.mat 16+24 4880/mV 16 0 9 -30941 0 V1\\n', 'E00004.mat 16+24 4880/mV 16 0 19 -10611 0 V2\\n', 'E00004.mat 16+24 4880/mV 16 0 39 -8878 0 V3\\n', 'E00004.mat 16+24 4880/mV 16 0 -9 10926 0 V4\\n', 'E00004.mat 16+24 4880/mV 16 0 0 4649 0 V5\\n', 'E00004.mat 16+24 4880/mV 16 0 39 -28293 0 V6\\n', '#Age: 75\\n', '#Sex: Male\\n', '#Dx: 426177001,425623009,164934002,164873001\\n', '#Rx: Unknown\\n', '#Hx: Unknown\\n', '#Sx: Unknown\\n']\n"
     ]
    },
    {
     "name": "stderr",
     "output_type": "stream",
     "text": [
      "\n"
     ]
    }
   ],
   "source": [
    "def read_mat_file(mat_file_path):\n",
    "    # Load .mat file using scipy\n",
    "    mat_data = scipy.io.loadmat(mat_file_path)\n",
    "    \n",
    "    # Extract ECG data from the 'val' key, based on the sample code\n",
    "    ecg_data = mat_data['val'].astype('float64')\n",
    "    \n",
    "    return ecg_data\n",
    "\n",
    "def read_hea_file(hea_file_path):\n",
    "    with open(hea_file_path, 'r') as f:\n",
    "        header_info = f.readlines()\n",
    "    \n",
    "    return header_info\n",
    "\n",
    "def write_to_csv(ecg_data, csv_file_path):\n",
    "    # Convert the ECG data to a DataFrame\n",
    "    df = pd.DataFrame(ecg_data.T, columns=[f\"Lead_{i+1}\" for i in range(ecg_data.shape[0])])\n",
    "    \n",
    "    # Write DataFrame to CSV file\n",
    "    df.to_csv(csv_file_path, index=False)\n",
    "\n",
    "def main(read_dataset_path, write_dataset_path):\n",
    "    # Create the directory for saving .csv files if it doesn't exist\n",
    "    os.makedirs(write_dataset_path, exist_ok=True)\n",
    "    \n",
    "    # List all header files\n",
    "    header_files = [os.path.join(read_dataset_path, f) for f in os.listdir(read_dataset_path) if f.lower().endswith('.hea')]\n",
    "    \n",
    "    for header_file in tqdm.tqdm(header_files):        # Extract the number from the filename\n",
    "        file_number = int(os.path.basename(header_file)[1:-4])  # This will extract numbers from filenames like 'E08342.hea'\n",
    "        \n",
    "        # Check if the file number is greater than 08342\n",
    "        if file_number != 8342:\n",
    "            continue\n",
    "        \n",
    "        # Load header and corresponding mat file\n",
    "        mat_file = header_file.replace('.hea', '.mat')\n",
    "        \n",
    "        file_basename = os.path.basename(header_file).replace('.hea', '')\n",
    "        csv_file = os.path.join(write_dataset_path, f\"{file_basename}.csv\")\n",
    "        \n",
    "        ecg_data = read_mat_file(mat_file)\n",
    "        header_info = read_hea_file(header_file)\n",
    "        \n",
    "        print(f\"Header Information for {header_file}:\", header_info)\n",
    "        \n",
    "        write_to_csv(ecg_data, csv_file)\n",
    "\n",
    "read_dataset_path = \"NFT/ecg/WFDB\"\n",
    "write_dataset_path = \"NFT/ecg/csv_files\"\n",
    "\n",
    "main(read_dataset_path, write_dataset_path)\n"
   ]
  },
  {
   "cell_type": "code",
   "execution_count": 4,
   "metadata": {},
   "outputs": [],
   "source": [
    "def extract_sex_from_hea_files(hea_folder_path):\n",
    "    person_to_sex = {}\n",
    "    \n",
    "    # List all header files\n",
    "    header_files = [os.path.join(hea_folder_path, f) for f in os.listdir(hea_folder_path) if f.lower().endswith('.hea')]\n",
    "    \n",
    "    for header_file in header_files:\n",
    "        # Extract person identifier from filename\n",
    "        person_id = os.path.basename(header_file).replace('.hea', '')\n",
    "        \n",
    "        with open(header_file, 'r') as f:\n",
    "            lines = f.readlines()\n",
    "            \n",
    "            for line in lines:\n",
    "                if line.startswith('#Sex:'):\n",
    "                    sex = line.split(': ')[1].strip()\n",
    "                    person_to_sex[person_id] = sex\n",
    "    \n",
    "    return person_to_sex\n",
    "\n",
    "hea_folder_path = '/path/to/hea/files'\n",
    "\n",
    "# person_to_sex = extract_sex_from_hea_files(hea_folder_path)"
   ]
  },
  {
   "cell_type": "code",
   "execution_count": 11,
   "metadata": {},
   "outputs": [
    {
     "name": "stdout",
     "output_type": "stream",
     "text": [
      "There are 10344 files in the directory.\n"
     ]
    }
   ],
   "source": [
    "\n",
    "# Specify the directory path\n",
    "dir_path = \"NFT/ecg/csv_files\"\n",
    "\n",
    "# List all files in the directory\n",
    "files_in_dir = os.listdir(dir_path)\n",
    "\n",
    "# Count the number of files\n",
    "num_files = len(files_in_dir)\n",
    "\n",
    "print(f\"There are {num_files} files in the directory.\")\n"
   ]
  }
 ],
 "metadata": {
  "kernelspec": {
   "display_name": "myenv",
   "language": "python",
   "name": "python3"
  },
  "language_info": {
   "codemirror_mode": {
    "name": "ipython",
    "version": 3
   },
   "file_extension": ".py",
   "mimetype": "text/x-python",
   "name": "python",
   "nbconvert_exporter": "python",
   "pygments_lexer": "ipython3",
   "version": "3.9.16"
  },
  "orig_nbformat": 4
 },
 "nbformat": 4,
 "nbformat_minor": 2
}
