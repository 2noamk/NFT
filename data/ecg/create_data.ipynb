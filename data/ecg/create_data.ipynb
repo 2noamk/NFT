{
 "cells": [
  {
   "cell_type": "code",
   "execution_count": 1,
   "metadata": {},
   "outputs": [],
   "source": [
    "import scipy.io\n",
    "import pandas as pd\n",
    "import os\n",
    "import tqdm\n"
   ]
  },
  {
   "cell_type": "code",
   "execution_count": 10,
   "metadata": {},
   "outputs": [
    {
     "name": "stderr",
     "output_type": "stream",
     "text": [
      "  0%|          | 0/10344 [00:00<?, ?it/s]"
     ]
    },
    {
     "name": "stderr",
     "output_type": "stream",
     "text": [
      "100%|██████████| 10344/10344 [00:00<00:00, 213641.46it/s]"
     ]
    },
    {
     "name": "stdout",
     "output_type": "stream",
     "text": [
      "Header Information for /home/noam.koren/multiTS/NFT/ecg/WFDB/E08342.hea: ['E08342.mat 12 500 5000 05-May-2020 09:49:17\\n', 'E08342.mat 16+24 4880/mV 16 0 14 -8720 0 I\\n', 'E08342.mat 16+24 4880/mV 16 0 434 18152 0 II\\n', 'E08342.mat 16+24 4880/mV 16 0 419 26869 0 III\\n', 'E08342.mat 16+24 4880/mV 16 0 -224 27879 0 aVR\\n', 'E08342.mat 16+24 4880/mV 16 0 -202 14918 0 aVL\\n', 'E08342.mat 16+24 4880/mV 16 0 427 22460 0 aVF\\n', 'E08342.mat 16+24 4880/mV 16 0 -126 -19446 0 V1\\n', 'E08342.mat 16+24 4880/mV 16 0 -151 -23710 0 V2\\n', 'E08342.mat 16+24 4880/mV 16 0 -73 -581 0 V3\\n', 'E08342.mat 16+24 4880/mV 16 0 -107 -2655 0 V4\\n', 'E08342.mat 16+24 4880/mV 16 0 -117 15105 0 V5\\n', 'E08342.mat 16+24 4880/mV 16 0 -136 21869 0 V6\\n', '#Age: 45\\n', '#Sex: Male\\n', '#Dx: 713426002\\n', '#Rx: Unknown\\n', '#Hx: Unknown\\n', '#Sx: Unknown\\n']\n"
     ]
    },
    {
     "name": "stderr",
     "output_type": "stream",
     "text": [
      "\n"
     ]
    }
   ],
   "source": [
    "def read_mat_file(mat_file_path):\n",
    "    # Load .mat file using scipy\n",
    "    mat_data = scipy.io.loadmat(mat_file_path)\n",
    "    \n",
    "    # Extract ECG data from the 'val' key, based on the sample code\n",
    "    ecg_data = mat_data['val'].astype('float64')\n",
    "    \n",
    "    return ecg_data\n",
    "\n",
    "def read_hea_file(hea_file_path):\n",
    "    with open(hea_file_path, 'r') as f:\n",
    "        header_info = f.readlines()\n",
    "    \n",
    "    return header_info\n",
    "\n",
    "def write_to_csv(ecg_data, csv_file_path):\n",
    "    # Convert the ECG data to a DataFrame\n",
    "    df = pd.DataFrame(ecg_data.T, columns=[f\"Lead_{i+1}\" for i in range(ecg_data.shape[0])])\n",
    "    \n",
    "    # Write DataFrame to CSV file\n",
    "    df.to_csv(csv_file_path, index=False)\n",
    "\n",
    "def main(read_dataset_path, write_dataset_path):\n",
    "    # Create the directory for saving .csv files if it doesn't exist\n",
    "    os.makedirs(write_dataset_path, exist_ok=True)\n",
    "    \n",
    "    # List all header files\n",
    "    header_files = [os.path.join(read_dataset_path, f) for f in os.listdir(read_dataset_path) if f.lower().endswith('.hea')]\n",
    "    \n",
    "    for header_file in tqdm.tqdm(header_files):        # Extract the number from the filename\n",
    "        file_number = int(os.path.basename(header_file)[1:-4])  # This will extract numbers from filenames like 'E08342.hea'\n",
    "        \n",
    "        # Check if the file number is greater than 08342\n",
    "        if file_number != 8342:\n",
    "            continue\n",
    "        \n",
    "        # Load header and corresponding mat file\n",
    "        mat_file = header_file.replace('.hea', '.mat')\n",
    "        \n",
    "        file_basename = os.path.basename(header_file).replace('.hea', '')\n",
    "        csv_file = os.path.join(write_dataset_path, f\"{file_basename}.csv\")\n",
    "        \n",
    "        ecg_data = read_mat_file(mat_file)\n",
    "        header_info = read_hea_file(header_file)\n",
    "        \n",
    "        print(f\"Header Information for {header_file}:\", header_info)\n",
    "        \n",
    "        write_to_csv(ecg_data, csv_file)\n",
    "\n",
    "read_dataset_path = \"/home/noam.koren/multiTS/NFT/ecg/WFDB\"\n",
    "write_dataset_path = \"/home/noam.koren/multiTS/NFT/ecg/csv_files\"\n",
    "\n",
    "main(read_dataset_path, write_dataset_path)\n"
   ]
  },
  {
   "cell_type": "code",
   "execution_count": 4,
   "metadata": {},
   "outputs": [],
   "source": [
    "def extract_sex_from_hea_files(hea_folder_path):\n",
    "    person_to_sex = {}\n",
    "    \n",
    "    # List all header files\n",
    "    header_files = [os.path.join(hea_folder_path, f) for f in os.listdir(hea_folder_path) if f.lower().endswith('.hea')]\n",
    "    \n",
    "    for header_file in header_files:\n",
    "        # Extract person identifier from filename\n",
    "        person_id = os.path.basename(header_file).replace('.hea', '')\n",
    "        \n",
    "        with open(header_file, 'r') as f:\n",
    "            lines = f.readlines()\n",
    "            \n",
    "            for line in lines:\n",
    "                if line.startswith('#Sex:'):\n",
    "                    sex = line.split(': ')[1].strip()\n",
    "                    person_to_sex[person_id] = sex\n",
    "    \n",
    "    return person_to_sex\n",
    "\n",
    "hea_folder_path = '/path/to/hea/files'\n",
    "\n",
    "# person_to_sex = extract_sex_from_hea_files(hea_folder_path)"
   ]
  },
  {
   "cell_type": "code",
   "execution_count": 11,
   "metadata": {},
   "outputs": [
    {
     "name": "stdout",
     "output_type": "stream",
     "text": [
      "There are 10344 files in the directory.\n"
     ]
    }
   ],
   "source": [
    "\n",
    "# Specify the directory path\n",
    "dir_path = \"/home/noam.koren/multiTS/NFT/ecg/csv_files\"\n",
    "\n",
    "# List all files in the directory\n",
    "files_in_dir = os.listdir(dir_path)\n",
    "\n",
    "# Count the number of files\n",
    "num_files = len(files_in_dir)\n",
    "\n",
    "print(f\"There are {num_files} files in the directory.\")\n"
   ]
  }
 ],
 "metadata": {
  "kernelspec": {
   "display_name": "myenv",
   "language": "python",
   "name": "python3"
  },
  "language_info": {
   "codemirror_mode": {
    "name": "ipython",
    "version": 3
   },
   "file_extension": ".py",
   "mimetype": "text/x-python",
   "name": "python",
   "nbconvert_exporter": "python",
   "pygments_lexer": "ipython3",
   "version": "3.9.16"
  },
  "orig_nbformat": 4
 },
 "nbformat": 4,
 "nbformat_minor": 2
}
