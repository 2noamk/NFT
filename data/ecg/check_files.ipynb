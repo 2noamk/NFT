{
 "cells": [
  {
   "cell_type": "code",
   "execution_count": null,
   "metadata": {},
   "outputs": [
    {
     "ename": "",
     "evalue": "",
     "output_type": "error",
     "traceback": [
      "\u001b[1;31mFailed to start the Kernel 'multTS (Python 3.9.16)'. \n",
      "\u001b[1;31mView Jupyter <a href='command:jupyter.viewOutput'>log</a> for further details. Unknown system error -122: Unknown system error -122, close"
     ]
    }
   ],
   "source": [
    "import shutil\n",
    "import os\n",
    "\n",
    "# Path to the source and destination directories\n",
    "source_dir = \"NFT/data/ecg/csv_files\"\n",
    "destination_dir = \"NFT/data/ecg/600_csv_files\"\n",
    "\n",
    "# Ensure destination directory exists\n",
    "os.makedirs(destination_dir, exist_ok=True)\n",
    "\n",
    "# List of filenames in the source directory\n",
    "filenames = os.listdir(source_dir)\n",
    "\n",
    "# Copy the first 600 files\n",
    "for filename in filenames[:600]:\n",
    "    shutil.copy(os.path.join(source_dir, filename), destination_dir)\n"
   ]
  },
  {
   "cell_type": "code",
   "execution_count": 1,
   "metadata": {},
   "outputs": [
    {
     "name": "stdout",
     "output_type": "stream",
     "text": [
      "There are 600 or fewer files. No files were deleted.\n"
     ]
    }
   ],
   "source": [
    "import os\n",
    "from glob import glob\n",
    "\n",
    "# Set the directory containing the CSV files\n",
    "directory = \"/home/noam.koren/multiTS/NFT/data/ecg/csv_files\"\n",
    "\n",
    "# Get a list of all CSV files in the directory\n",
    "csv_files = glob(os.path.join(directory, '*.csv'))\n",
    "\n",
    "# Sort the files if necessary (this example sorts them alphabetically)\n",
    "csv_files.sort()\n",
    "\n",
    "# Check if there are more than 600 files\n",
    "if len(csv_files) > 600:\n",
    "    # Get the files to be deleted (all except the first 600)\n",
    "    files_to_delete = csv_files[600:]\n",
    "\n",
    "    # Loop through the files and delete them\n",
    "    for file in files_to_delete:\n",
    "        os.remove(file)\n",
    "        print(f\"Deleted {file}\")  # Optional: print out the name of each file as it is deleted\n",
    "else:\n",
    "    print(\"There are 600 or fewer files. No files were deleted.\")\n"
   ]
  },
  {
   "cell_type": "code",
   "execution_count": 3,
   "metadata": {},
   "outputs": [],
   "source": [
    "import pandas as pd\n",
    "\n",
    "df = pd.read_pickle('/home/noam.koren/multiTS/NFT/data/ecg/ecg_date_stamp_100l_1h_600series/test_X.pkl')"
   ]
  },
  {
   "cell_type": "code",
   "execution_count": 7,
   "metadata": {},
   "outputs": [
    {
     "data": {
      "text/plain": [
       "(540563, 100, 4)"
      ]
     },
     "execution_count": 7,
     "metadata": {},
     "output_type": "execute_result"
    }
   ],
   "source": [
    "df.shape"
   ]
  },
  {
   "cell_type": "code",
   "execution_count": 4,
   "metadata": {},
   "outputs": [
    {
     "ename": "AttributeError",
     "evalue": "'numpy.ndarray' object has no attribute 'values'",
     "output_type": "error",
     "traceback": [
      "\u001b[0;31m---------------------------------------------------------------------------\u001b[0m",
      "\u001b[0;31mAttributeError\u001b[0m                            Traceback (most recent call last)",
      "Cell \u001b[0;32mIn[4], line 1\u001b[0m\n\u001b[0;32m----> 1\u001b[0m n \u001b[38;5;241m=\u001b[39m \u001b[43mdf\u001b[49m\u001b[38;5;241;43m.\u001b[39;49m\u001b[43mvalues\u001b[49m\n",
      "\u001b[0;31mAttributeError\u001b[0m: 'numpy.ndarray' object has no attribute 'values'"
     ]
    }
   ],
   "source": [
    "n = df.values"
   ]
  }
 ],
 "metadata": {
  "kernelspec": {
   "display_name": "multTS",
   "language": "python",
   "name": "python3"
  },
  "language_info": {
   "codemirror_mode": {
    "name": "ipython",
    "version": 3
   },
   "file_extension": ".py",
   "mimetype": "text/x-python",
   "name": "python",
   "nbconvert_exporter": "python",
   "pygments_lexer": "ipython3",
   "version": "3.9.16"
  }
 },
 "nbformat": 4,
 "nbformat_minor": 2
}
