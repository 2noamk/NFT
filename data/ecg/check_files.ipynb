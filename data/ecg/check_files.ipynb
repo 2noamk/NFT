{
 "cells": [
  {
   "cell_type": "code",
   "execution_count": 1,
   "metadata": {},
   "outputs": [],
   "source": [
    "import shutil\n",
    "import os\n",
    "\n",
    "# Path to the source and destination directories\n",
    "source_dir = \"NFT/data/ecg/csv_files\"\n",
    "destination_dir = \"NFT/data/ecg/600_csv_files\"\n",
    "\n",
    "# Ensure destination directory exists\n",
    "os.makedirs(destination_dir, exist_ok=True)\n",
    "\n",
    "# List of filenames in the source directory\n",
    "filenames = os.listdir(source_dir)\n",
    "\n",
    "# Copy the first 600 files\n",
    "for filename in filenames[:600]:\n",
    "    shutil.copy(os.path.join(source_dir, filename), destination_dir)\n"
   ]
  }
 ],
 "metadata": {
  "kernelspec": {
   "display_name": "multTS",
   "language": "python",
   "name": "python3"
  },
  "language_info": {
   "codemirror_mode": {
    "name": "ipython",
    "version": 3
   },
   "file_extension": ".py",
   "mimetype": "text/x-python",
   "name": "python",
   "nbconvert_exporter": "python",
   "pygments_lexer": "ipython3",
   "version": "3.9.16"
  }
 },
 "nbformat": 4,
 "nbformat_minor": 2
}
