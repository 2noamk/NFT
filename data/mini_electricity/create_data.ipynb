{
 "cells": [
  {
   "cell_type": "code",
   "execution_count": 1,
   "metadata": {},
   "outputs": [],
   "source": [
    "import pandas as pd \n",
    "\n",
    "pkl_path = '/home/../multiTS/NFT/data/electricity/electricity_no_date.pkl'\n",
    "d = pd.read_pickle(pkl_path)\n",
    "column_indices_to_extract = [\n",
    "    ([20, 44], 58),\n",
    "    ([92, 64], 56),\n",
    "    ([58, 71], 54),\n",
    "    ([47, 13], 53),\n",
    "    ([21, 22], 52),\n",
    "    ([3, 5], 51),\n",
    "    ([10, 16], 50),\n",
    "    ([7, 15], 49),\n",
    "    ([2, 69], 48),\n",
    "    ([4, 6], 47),\n",
    "    ([1, 29], 46),\n",
    "    ([0, 8], 45),\n",
    "    ([25, 55], 44),\n",
    "    ([122, 125], 43), \n",
    "    ([131, 99], 41),\n",
    "    ([84, 9], 37),\n",
    "    ([50, 113], 36),\n",
    "    ([17, 118], 0),\n",
    "    ]\n",
    "l = []\n",
    "for cols, seasonality in column_indices_to_extract:\n",
    "    # m = d.iloc[:, cols]\n",
    "    # m.to_pickle(f'/home/../multiTS/NFT/data/mini_electricity/mini_electricity_seasonality_{seasonality}.pkl')\n",
    "    l.append(f'mini_electricity_seasonality_{seasonality}')"
   ]
  },
  {
   "cell_type": "code",
   "execution_count": 2,
   "metadata": {},
   "outputs": [
    {
     "data": {
      "text/plain": [
       "['mini_electricity_seasonality_58',\n",
       " 'mini_electricity_seasonality_56',\n",
       " 'mini_electricity_seasonality_54',\n",
       " 'mini_electricity_seasonality_53',\n",
       " 'mini_electricity_seasonality_52',\n",
       " 'mini_electricity_seasonality_51',\n",
       " 'mini_electricity_seasonality_50',\n",
       " 'mini_electricity_seasonality_49',\n",
       " 'mini_electricity_seasonality_48',\n",
       " 'mini_electricity_seasonality_47',\n",
       " 'mini_electricity_seasonality_46',\n",
       " 'mini_electricity_seasonality_45',\n",
       " 'mini_electricity_seasonality_44',\n",
       " 'mini_electricity_seasonality_43',\n",
       " 'mini_electricity_seasonality_41',\n",
       " 'mini_electricity_seasonality_37',\n",
       " 'mini_electricity_seasonality_36',\n",
       " 'mini_electricity_seasonality_0']"
      ]
     },
     "execution_count": 2,
     "metadata": {},
     "output_type": "execute_result"
    }
   ],
   "source": [
    "l"
   ]
  },
  {
   "cell_type": "code",
   "execution_count": null,
   "metadata": {},
   "outputs": [],
   "source": []
  }
 ],
 "metadata": {
  "kernelspec": {
   "display_name": "nft",
   "language": "python",
   "name": "python3"
  },
  "language_info": {
   "codemirror_mode": {
    "name": "ipython",
    "version": 3
   },
   "file_extension": ".py",
   "mimetype": "text/x-python",
   "name": "python",
   "nbconvert_exporter": "python",
   "pygments_lexer": "ipython3",
   "version": "3.9.19"
  }
 },
 "nbformat": 4,
 "nbformat_minor": 2
}
