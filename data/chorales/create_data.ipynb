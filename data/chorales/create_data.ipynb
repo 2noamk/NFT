{
 "cells": [
  {
   "cell_type": "code",
   "execution_count": 4,
   "metadata": {},
   "outputs": [
    {
     "name": "stdout",
     "output_type": "stream",
     "text": [
      "Number of lines read: 100\n"
     ]
    }
   ],
   "source": [
    "import re\n",
    "import csv\n",
    "\n",
    "def build_chorales_csv(data, csv_filename):\n",
    "    # Remove the leading and trailing parenthesis characters from the data string\n",
    "    # Split the data into individual events\n",
    "    events = re.findall(r'\\(\\(.*?\\)\\)', data)\n",
    "\n",
    "    parsed_data = []\n",
    "\n",
    "    for event in events:\n",
    "        # Split the event into individual attributes\n",
    "        event_data = re.findall(r'\\((.*?)\\)', event)\n",
    "        # Extract integers including negative ones\n",
    "        event_data = [int(re.search(r'-?\\d+', attr).group()) for attr in event_data]\n",
    "        # Add the parsed data to the list\n",
    "        parsed_data.append(event_data)\n",
    "\n",
    "    # Define CSV column names\n",
    "    columns = ['st', 'pitch', 'dur', 'keysig', 'timesig', 'fermata']\n",
    "\n",
    "    # Write data to CSV file\n",
    "    with open(csv_filename, 'w', newline='') as csvfile:\n",
    "        writer = csv.writer(csvfile)\n",
    "        writer.writerow(columns)\n",
    "        writer.writerows(parsed_data)\n",
    "\n",
    "def build_chorales_csvs1(path, csv_base_path):\n",
    "    with open(path, 'r') as file:\n",
    "        lines = file.readlines()\n",
    "        \n",
    "    print(f\"Number of lines read: {len(lines)}\")\n",
    "\n",
    "    for index, line in enumerate(lines):\n",
    "        csv_filename = f'{csv_base_path}_{index}.csv'\n",
    "        build_chorales_csv(line, csv_filename)\n",
    "        \n",
    "p = '/home/noam.koren/multiTS/NFT/data/chorales/bach+chorales/chorales.txt'\n",
    "csv_base_path = '/home/noam.koren/multiTS/NFT/data/chorales/chorales_csvs/melody'\n",
    "build_chorales_csvs1(p, csv_base_path)\n"
   ]
  },
  {
   "cell_type": "code",
   "execution_count": null,
   "metadata": {},
   "outputs": [],
   "source": []
  }
 ],
 "metadata": {
  "kernelspec": {
   "display_name": ".venv",
   "language": "python",
   "name": "python3"
  },
  "language_info": {
   "codemirror_mode": {
    "name": "ipython",
    "version": 3
   },
   "file_extension": ".py",
   "mimetype": "text/x-python",
   "name": "python",
   "nbconvert_exporter": "python",
   "pygments_lexer": "ipython3",
   "version": "3.9.16"
  },
  "orig_nbformat": 4
 },
 "nbformat": 4,
 "nbformat_minor": 2
}
