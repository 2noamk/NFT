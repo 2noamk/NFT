{
 "cells": [
  {
   "cell_type": "code",
   "execution_count": 6,
   "metadata": {},
   "outputs": [
    {
     "name": "stdout",
     "output_type": "stream",
     "text": [
      "Conversion complete!\n"
     ]
    }
   ],
   "source": [
    "import pandas as pd\n",
    "import os\n",
    "\n",
    "# Directory containing your CSV files\n",
    "csv_directory = ''\n",
    "pkl_directory = ''\n",
    "\n",
    "# Make sure the output directory exists\n",
    "os.makedirs(pkl_directory, exist_ok=True)\n",
    "\n",
    "# Process each CSV file in the directory\n",
    "for filename in os.listdir(csv_directory):\n",
    "    if filename.endswith('.csv'):\n",
    "        csv_path = os.path.join(csv_directory, filename)\n",
    "        pkl_path = os.path.join(pkl_directory, filename.replace('.csv', '.pkl'))\n",
    "\n",
    "        # Read the CSV file\n",
    "        df = pd.read_csv(csv_path)\n",
    "\n",
    "        # Save as Pickle file\n",
    "        df.to_pickle(pkl_path)\n",
    "\n",
    "print(\"Conversion complete!\")\n"
   ]
  },
  {
   "cell_type": "code",
   "execution_count": null,
   "metadata": {},
   "outputs": [],
   "source": []
  }
 ],
 "metadata": {
  "kernelspec": {
   "display_name": "multTS",
   "language": "python",
   "name": "python3"
  },
  "language_info": {
   "codemirror_mode": {
    "name": "ipython",
    "version": 3
   },
   "file_extension": ".py",
   "mimetype": "text/x-python",
   "name": "python",
   "nbconvert_exporter": "python",
   "pygments_lexer": "ipython3",
   "version": "3.9.16"
  }
 },
 "nbformat": 4,
 "nbformat_minor": 2
}
