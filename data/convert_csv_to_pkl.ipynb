{
 "cells": [
  {
   "cell_type": "code",
   "execution_count": 1,
   "metadata": {},
   "outputs": [
    {
     "data": {
      "text/plain": [
       "9620519"
      ]
     },
     "execution_count": 1,
     "metadata": {},
     "output_type": "execute_result"
    }
   ],
   "source": [
    "import pandas as pd\n",
    "data = 'ETTh1'\n",
    "d1=pd.read_pickle(f'/home/noam.koren/multiTS/NFT/data/eeg_3_lead/eeg_3_lead_100l_1h/train_y.pkl')\n",
    "d2=pd.read_pickle(f'/home/noam.koren/multiTS/NFT/data/eeg_3_lead/eeg_3_lead_100l_1h/val_y.pkl')\n",
    "d3=pd.read_pickle(f'/home/noam.koren/multiTS/NFT/data/eeg_3_lead/eeg_3_lead_100l_1h/test_y.pkl')\n",
    "d1.shape[0]+d2.shape[0]+d3.shape[0]"
   ]
  },
  {
   "cell_type": "code",
   "execution_count": 2,
   "metadata": {},
   "outputs": [
    {
     "name": "stdout",
     "output_type": "stream",
     "text": [
      "Conversion complete!\n"
     ]
    }
   ],
   "source": [
    "import pandas as pd\n",
    "import os\n",
    "\n",
    "# Directory containing your CSV files\n",
    "csv_directory = '/home/noam.koren/multiTS/NFT/data/ecg/csv_files'\n",
    "pkl_directory = '/home/noam.koren/multiTS/NFT/data/ecg/csv_files'\n",
    "\n",
    "# Make sure the output directory exists\n",
    "os.makedirs(pkl_directory, exist_ok=True)\n",
    "\n",
    "# Process each CSV file in the directory\n",
    "for filename in os.listdir(csv_directory):\n",
    "    if filename.endswith('.csv'):\n",
    "        csv_path = os.path.join(csv_directory, filename)\n",
    "        pkl_path = os.path.join(pkl_directory, filename.replace('.csv', '.pkl'))\n",
    "\n",
    "        # Read the CSV file\n",
    "        df = pd.read_csv(csv_path)\n",
    "\n",
    "        # Save as Pickle file\n",
    "        df.to_pickle(pkl_path)\n",
    "\n",
    "print(\"Conversion complete!\")\n"
   ]
  },
  {
   "cell_type": "code",
   "execution_count": 1,
   "metadata": {},
   "outputs": [
    {
     "name": "stdout",
     "output_type": "stream",
     "text": [
      "Conversion complete!\n"
     ]
    }
   ],
   "source": [
    "import pandas as pd\n",
    "import os\n",
    "\n",
    "# Directories\n",
    "csv_directory = '/home/noam.koren/multiTS/NFT/data/noaa/noaa_ghcn/noaa_pkl'\n",
    "excel_directory = '/home/noam.koren/multiTS/NFT/data/noaa/noaa_ghcn/noaa_pkl'  # Add your Excel files directory here\n",
    "pkl_directory = '/home/noam.koren/multiTS/NFT/data/noaa/noaa_ghcn/noaa_pkl'  # Updated to separate pkl files\n",
    "\n",
    "# Ensure the output directory exists\n",
    "os.makedirs(pkl_directory, exist_ok=True)\n",
    "\n",
    "# Process each CSV file in the directory\n",
    "for filename in os.listdir(csv_directory):\n",
    "    if filename.endswith('.csv'):\n",
    "        csv_path = os.path.join(csv_directory, filename)\n",
    "        pkl_path = os.path.join(pkl_directory, filename.replace('.csv', '.pkl'))\n",
    "\n",
    "        # Read the CSV file and save as Pickle\n",
    "        df = pd.read_csv(csv_path)\n",
    "        df.to_pickle(pkl_path)\n",
    "\n",
    "# Process each Excel file in the directory\n",
    "for filename in os.listdir(excel_directory):\n",
    "    if filename.endswith('.xlsx') or filename.endswith('.xls'):  # Check for both .xlsx and .xls\n",
    "        excel_path = os.path.join(excel_directory, filename)\n",
    "        pkl_path = os.path.join(pkl_directory, filename.replace('.xlsx', '.pkl').replace('.xls', '.pkl'))\n",
    "\n",
    "        # Read the Excel file and save as Pickle\n",
    "        df = pd.read_excel(excel_path)\n",
    "        df.to_pickle(pkl_path)\n",
    "\n",
    "print(\"Conversion complete!\")\n"
   ]
  },
  {
   "cell_type": "code",
   "execution_count": 2,
   "metadata": {},
   "outputs": [
    {
     "name": "stdout",
     "output_type": "stream",
     "text": [
      "(6336, 96, 7) (6336, 72, 7)\n"
     ]
    }
   ],
   "source": [
    "import pandas as pd\n",
    "\n",
    "x = pd.read_pickle('/home/noam.koren/multiTS/NFT/data/etth1/etth1_96l_24h/train_X.pkl')\n",
    "y = pd.read_pickle('/home/noam.koren/multiTS/NFT/data/etth1/etth1_96l_24h/train_y.pkl')\n",
    "\n",
    "print(x.shape, y.shape)"
   ]
  },
  {
   "cell_type": "code",
   "execution_count": null,
   "metadata": {},
   "outputs": [],
   "source": []
  }
 ],
 "metadata": {
  "kernelspec": {
   "display_name": "multTS",
   "language": "python",
   "name": "python3"
  },
  "language_info": {
   "codemirror_mode": {
    "name": "ipython",
    "version": 3
   },
   "file_extension": ".py",
   "mimetype": "text/x-python",
   "name": "python",
   "nbconvert_exporter": "python",
   "pygments_lexer": "ipython3",
   "version": "3.9.16"
  }
 },
 "nbformat": 4,
 "nbformat_minor": 2
}
