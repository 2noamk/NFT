{
 "cells": [
  {
   "cell_type": "code",
   "execution_count": 3,
   "metadata": {},
   "outputs": [
    {
     "name": "stdout",
     "output_type": "stream",
     "text": [
      "Processed and saved: /home/noam.koren/multiTS/NFT/data/autoformer_datasets/traffic/traffic_no_date.pkl\n",
      "Processed and saved: /home/noam.koren/multiTS/NFT/data/autoformer_datasets/illness/national_illness_no_date.pkl\n",
      "Processed and saved: /home/noam.koren/multiTS/NFT/data/autoformer_datasets/ETT-small/ETTh1_no_date.pkl\n",
      "Processed and saved: /home/noam.koren/multiTS/NFT/data/autoformer_datasets/ETT-small/ETTh2_no_date.pkl\n",
      "Processed and saved: /home/noam.koren/multiTS/NFT/data/autoformer_datasets/ETT-small/ETTm1_no_date.pkl\n",
      "Processed and saved: /home/noam.koren/multiTS/NFT/data/autoformer_datasets/ETT-small/ETTm2_no_date.pkl\n",
      "Processed and saved: /home/noam.koren/multiTS/NFT/data/autoformer_datasets/weather/weather_no_date.pkl\n",
      "Processed and saved: /home/noam.koren/multiTS/NFT/data/autoformer_datasets/exchange_rate/exchange_rate_no_date.pkl\n",
      "Processed and saved: /home/noam.koren/multiTS/NFT/data/autoformer_datasets/electricity/electricity_no_date.pkl\n"
     ]
    }
   ],
   "source": [
    "import os\n",
    "import pandas as pd\n",
    "\n",
    "def process_csv_files(parent_directory):\n",
    "    # Walk through each subdirectory in the parent directory\n",
    "    for subdir, dirs, files in os.walk(parent_directory):\n",
    "        for file in files:\n",
    "            # Check if the file is a CSV\n",
    "            if file.endswith('.csv'):\n",
    "                file_path = os.path.join(subdir, file)\n",
    "                try:\n",
    "                    # Load the CSV file\n",
    "                    df = pd.read_csv(file_path)\n",
    "\n",
    "                    # Remove the \"date\" column if it exists\n",
    "                    if 'date' in df.columns:\n",
    "                        df.drop('date', axis=1, inplace=True)\n",
    "\n",
    "                    # Define the new file name\n",
    "                    new_file_name = f\"{os.path.splitext(file_path)[0]}_no_date.pkl\"\n",
    "\n",
    "                    # Save the modified DataFrame as a pickle file\n",
    "                    df.to_pickle(new_file_name)\n",
    "\n",
    "                    print(f\"Processed and saved: {new_file_name}\")\n",
    "                except Exception as e:\n",
    "                    print(f\"Error processing {file_path}: {e}\")\n",
    "\n",
    "# Replace 'your_parent_directory_path' with the path to your parent directory\n",
    "parent_directory = '/home/noam.koren/multiTS/NFT/data/autoformer_datasets'\n",
    "process_csv_files(parent_directory)\n"
   ]
  },
  {
   "cell_type": "code",
   "execution_count": null,
   "metadata": {},
   "outputs": [],
   "source": []
  }
 ],
 "metadata": {
  "kernelspec": {
   "display_name": "multTS",
   "language": "python",
   "name": "python3"
  },
  "language_info": {
   "codemirror_mode": {
    "name": "ipython",
    "version": 3
   },
   "file_extension": ".py",
   "mimetype": "text/x-python",
   "name": "python",
   "nbconvert_exporter": "python",
   "pygments_lexer": "ipython3",
   "version": "3.9.16"
  }
 },
 "nbformat": 4,
 "nbformat_minor": 2
}
