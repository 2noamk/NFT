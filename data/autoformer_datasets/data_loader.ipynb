{
 "cells": [
  {
   "cell_type": "code",
   "execution_count": 2,
   "metadata": {},
   "outputs": [],
   "source": [
    "import os\n",
    "import pandas as pd\n",
    "from torch.utils.data import Dataset\n",
    "from sklearn.preprocessing import StandardScaler\n",
    "# from utils.timefeatures import time_features\n",
    "import warnings\n",
    "\n",
    "warnings.filterwarnings('ignore')\n"
   ]
  },
  {
   "cell_type": "code",
   "execution_count": null,
   "metadata": {},
   "outputs": [],
   "source": [
    "def __init__(self, root_path, flag='train', size=None,\n",
    "                features='S', data_path='ETTh1.csv',\n",
    "                target='OT', scale=True, timeenc=0, freq='h'):\n",
    "    # size [seq_len, label_len, pred_len]\n",
    "    # info\n",
    "    if size == None:\n",
    "        self.seq_len = 24 * 4 * 4\n",
    "        self.label_len = 24 * 4\n",
    "        self.pred_len = 24 * 4\n",
    "    else:\n",
    "        self.seq_len = size[0]\n",
    "        self.label_len = size[1]\n",
    "        self.pred_len = size[2]\n",
    "    # init\n",
    "    assert flag in ['train', 'test', 'val']\n",
    "    type_map = {'train': 0, 'val': 1, 'test': 2}\n",
    "    self.set_type = type_map[flag]\n",
    "\n",
    "    self.features = features\n",
    "    self.target = target\n",
    "    self.scale = scale\n",
    "    self.timeenc = timeenc\n",
    "    self.freq = freq\n",
    "\n",
    "    self.root_path = root_path\n",
    "    self.data_path = data_path\n",
    "    self.__read_data__()"
   ]
  },
  {
   "cell_type": "code",
   "execution_count": 4,
   "metadata": {},
   "outputs": [],
   "source": [
    "scaler = StandardScaler()\n",
    "df_raw = pd.read_csv('/home/../multiTS/NFT/data/informer_datasets/weather/weather.csv')\n",
    "''' df_raw.columns: ['date', ...(other features), target feature] '''\n",
    "cols = list(df_raw.columns)"
   ]
  },
  {
   "cell_type": "code",
   "execution_count": 6,
   "metadata": {},
   "outputs": [
    {
     "data": {
      "text/plain": [
       "['date',\n",
       " 'p (mbar)',\n",
       " 'T (degC)',\n",
       " 'Tpot (K)',\n",
       " 'Tdew (degC)',\n",
       " 'rh (%)',\n",
       " 'VPmax (mbar)',\n",
       " 'VPact (mbar)',\n",
       " 'VPdef (mbar)',\n",
       " 'sh (g/kg)',\n",
       " 'H2OC (mmol/mol)',\n",
       " 'rho (g/m**3)',\n",
       " 'wv (m/s)',\n",
       " 'max. wv (m/s)',\n",
       " 'wd (deg)',\n",
       " 'rain (mm)',\n",
       " 'raining (s)',\n",
       " 'SWDR (W/m�)',\n",
       " 'PAR (�mol/m�/s)',\n",
       " 'max. PAR (�mol/m�/s)',\n",
       " 'Tlog (degC)',\n",
       " 'OT']"
      ]
     },
     "execution_count": 6,
     "metadata": {},
     "output_type": "execute_result"
    }
   ],
   "source": [
    "cols"
   ]
  },
  {
   "cell_type": "code",
   "execution_count": 3,
   "metadata": {},
   "outputs": [],
   "source": [
    "def __read_data__():\n",
    "    scaler = StandardScaler()\n",
    "    df_raw = pd.read_csv('/home/../multiTS/NFT/data/informer_datasets/weather/weather.csv')\n",
    "    ''' df_raw.columns: ['date', ...(other features), target feature] '''\n",
    "    cols = list(df_raw.columns)\n",
    "    cols.remove(self.target)\n",
    "    cols.remove('date')\n",
    "    df_raw = df_raw[['date'] + cols + [self.target]]\n",
    "    # print(cols)\n",
    "    num_train = int(len(df_raw) * 0.7)\n",
    "    num_test = int(len(df_raw) * 0.2)\n",
    "    num_vali = len(df_raw) - num_train - num_test\n",
    "    border1s = [0, num_train - self.seq_len, len(df_raw) - num_test - self.seq_len]\n",
    "    border2s = [num_train, num_train + num_vali, len(df_raw)]\n",
    "    border1 = border1s[self.set_type]\n",
    "    border2 = border2s[self.set_type]\n",
    "\n",
    "    if self.features == 'M' or self.features == 'MS':\n",
    "        cols_data = df_raw.columns[1:]\n",
    "        df_data = df_raw[cols_data]\n",
    "    elif self.features == 'S':\n",
    "        df_data = df_raw[[self.target]]\n",
    "\n",
    "    if self.scale:\n",
    "        train_data = df_data[border1s[0]:border2s[0]]\n",
    "        self.scaler.fit(train_data.values)\n",
    "        data = self.scaler.transform(df_data.values)\n",
    "    else:\n",
    "        data = df_data.values\n",
    "\n",
    "    df_stamp = df_raw[['date']][border1:border2]\n",
    "    df_stamp['date'] = pd.to_datetime(df_stamp.date)\n",
    "    if self.timeenc == 0:\n",
    "        df_stamp['month'] = df_stamp.date.apply(lambda row: row.month, 1)\n",
    "        df_stamp['day'] = df_stamp.date.apply(lambda row: row.day, 1)\n",
    "        df_stamp['weekday'] = df_stamp.date.apply(lambda row: row.weekday(), 1)\n",
    "        df_stamp['hour'] = df_stamp.date.apply(lambda row: row.hour, 1)\n",
    "        data_stamp = df_stamp.drop(['date'], 1).values\n",
    "    elif self.timeenc == 1:\n",
    "        data_stamp = time_features(pd.to_datetime(df_stamp['date'].values), freq=self.freq)\n",
    "        data_stamp = data_stamp.transpose(1, 0)\n",
    "\n",
    "    self.data_x = data[border1:border2]\n",
    "    self.data_y = data[border1:border2]\n",
    "    self.data_stamp = data_stamp\n",
    "\n",
    "    "
   ]
  }
 ],
 "metadata": {
  "kernelspec": {
   "display_name": "multTS",
   "language": "python",
   "name": "python3"
  },
  "language_info": {
   "codemirror_mode": {
    "name": "ipython",
    "version": 3
   },
   "file_extension": ".py",
   "mimetype": "text/x-python",
   "name": "python",
   "nbconvert_exporter": "python",
   "pygments_lexer": "ipython3",
   "version": "3.9.16"
  }
 },
 "nbformat": 4,
 "nbformat_minor": 2
}
