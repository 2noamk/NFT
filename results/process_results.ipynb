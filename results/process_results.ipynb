{
 "cells": [
  {
   "cell_type": "code",
   "execution_count": 1,
   "metadata": {},
   "outputs": [
    {
     "name": "stdout",
     "output_type": "stream",
     "text": [
      "File has been created successfully!\n"
     ]
    }
   ],
   "source": [
    "\"\"\"average noaa\"\"\"\n",
    "import pandas as pd\n",
    "\n",
    "data = 'noaa'\n",
    "for model in ['nbeats']:\n",
    "    base_path = f'/home/noam.koren/multiTS/NFT/results/{data}/{model}/{model}'\n",
    "    # Load the three Excel files\n",
    "    file1 = f'{base_path}_{data}_AE000041196_results.xlsx'\n",
    "    file2 = f'{base_path}_{data}_AEM00041194_results.xlsx'\n",
    "    file3 = f'{base_path}_{data}_AEM00041217_results.xlsx'\n",
    "\n",
    "    df1 = pd.read_excel(file1)\n",
    "    df2 = pd.read_excel(file2)\n",
    "    df3 = pd.read_excel(file3)\n",
    "\n",
    "    # Ensure the Data column is standardized before merging\n",
    "    df1['Data'] = data\n",
    "    df2['Data'] = data\n",
    "    df3['Data'] = data\n",
    "\n",
    "    # Combine the three dataframes\n",
    "    combined_df = pd.concat([df1, df2, df3])\n",
    "\n",
    "    # Group by 'Data', 'Lookback', and 'Horizon' and calculate mean of the selected columns\n",
    "    result_df = combined_df.groupby(['Data', 'Lookback', 'Horizon']).agg({\n",
    "    'test_mse': 'mean',\n",
    "    'test_mae': 'mean',\n",
    "    'test_smape': 'mean',\n",
    "    'test_mase': 'mean'\n",
    "    }).reset_index()\n",
    "\n",
    "    # Write the resulting DataFrame to a new Excel file\n",
    "    result_df.to_excel(f'{base_path}_averaged.xlsx', index=False)\n",
    "\n",
    "    print(\"File has been created successfully!\")\n"
   ]
  },
  {
   "cell_type": "code",
   "execution_count": 3,
   "metadata": {},
   "outputs": [
    {
     "name": "stdout",
     "output_type": "stream",
     "text": [
      "File has been created successfully!\n"
     ]
    }
   ],
   "source": [
    "\"\"\"average ecg\"\"\"\n",
    "import pandas as pd\n",
    "\n",
    "data = 'ecg_single'\n",
    "for model in ['nbeats']:#'PatchTST', 'lstm', 'tcn', 'TimesNet']:\n",
    "    base_path = f'/home/noam.koren/multiTS/NFT/results/{data}/{model}/{model}'\n",
    "    # Load the three Excel files\n",
    "    file1 = f'{base_path}_{data}_E00001_results.xlsx'\n",
    "    file2 = f'{base_path}_{data}_E00002_results.xlsx'\n",
    "    file3 = f'{base_path}_{data}_E00003_results.xlsx'\n",
    "    file4 = f'{base_path}_{data}_E00004_results.xlsx'\n",
    "\n",
    "    df1 = pd.read_excel(file1)\n",
    "    df2 = pd.read_excel(file2)\n",
    "    df3 = pd.read_excel(file3)\n",
    "    df4 = pd.read_excel(file4)\n",
    "\n",
    "    # Ensure the Data column is standardized before merging\n",
    "    df1['Data'] = data\n",
    "    df2['Data'] = data\n",
    "    df3['Data'] = data\n",
    "    df4['Data'] = data\n",
    "\n",
    "    # Combine the three dataframes\n",
    "    combined_df = pd.concat([df1, df2, df3, df4])\n",
    "\n",
    "    # Group by 'Data', 'Lookback', and 'Horizon' and calculate mean of the selected columns\n",
    "    result_df = combined_df.groupby(['Data', 'Lookback', 'Horizon']).agg({\n",
    "    'test_mse': 'mean',\n",
    "    'test_mae': 'mean',\n",
    "    'test_smape': 'mean',\n",
    "    'test_mase': 'mean'\n",
    "    }).reset_index()\n",
    "\n",
    "    # Write the resulting DataFrame to a new Excel file\n",
    "    result_df.to_excel(f'{base_path}_averaged.xlsx', index=False)\n",
    "\n",
    "    print(\"File has been created successfully!\")"
   ]
  },
  {
   "cell_type": "code",
   "execution_count": 2,
   "metadata": {},
   "outputs": [
    {
     "name": "stdout",
     "output_type": "stream",
     "text": [
      "File has been created successfully!\n"
     ]
    }
   ],
   "source": [
    "\"\"\"average eeg\"\"\"\n",
    "import pandas as pd\n",
    "\n",
    "data = 'eeg_single'\n",
    "for model in ['nbeats']:\n",
    "    base_path = f'/home/noam.koren/multiTS/NFT/results/{data}/{model}/{model}'\n",
    "    # Load the three Excel files\n",
    "    file1 = f'{base_path}_{data}_test_0_results.xlsx'\n",
    "    file2 = f'{base_path}_{data}_test_1_results.xlsx'\n",
    "\n",
    "    df1 = pd.read_excel(file1)\n",
    "    df2 = pd.read_excel(file2)\n",
    "\n",
    "    # Ensure the Data column is standardized before merging\n",
    "    df1['Data'] = data\n",
    "    df2['Data'] = data\n",
    "\n",
    "    # Combine the three dataframes\n",
    "    combined_df = pd.concat([df1, df2])\n",
    "\n",
    "    # Group by 'Data', 'Lookback', and 'Horizon' and calculate mean of the selected columns\n",
    "    result_df = combined_df.groupby(['Data', 'Lookback', 'Horizon']).agg({\n",
    "    'test_mse': 'mean',\n",
    "    'test_mae': 'mean',\n",
    "    'test_smape': 'mean',\n",
    "    'test_mase': 'mean'\n",
    "    }).reset_index()\n",
    "\n",
    "    # Write the resulting DataFrame to a new Excel file\n",
    "    result_df.to_excel(f'{base_path}_averaged.xlsx', index=False)\n",
    "\n",
    "    print(\"File has been created successfully!\")"
   ]
  },
  {
   "cell_type": "code",
   "execution_count": null,
   "metadata": {},
   "outputs": [],
   "source": []
  }
 ],
 "metadata": {
  "kernelspec": {
   "display_name": "multTS",
   "language": "python",
   "name": "python3"
  },
  "language_info": {
   "codemirror_mode": {
    "name": "ipython",
    "version": 3
   },
   "file_extension": ".py",
   "mimetype": "text/x-python",
   "name": "python",
   "nbconvert_exporter": "python",
   "pygments_lexer": "ipython3",
   "version": "3.9.16"
  }
 },
 "nbformat": 4,
 "nbformat_minor": 2
}
