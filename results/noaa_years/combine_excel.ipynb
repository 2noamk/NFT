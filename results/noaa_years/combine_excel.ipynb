{
 "cells": [
  {
   "cell_type": "code",
   "execution_count": 4,
   "metadata": {},
   "outputs": [
    {
     "name": "stderr",
     "output_type": "stream",
     "text": [
      "/tmp/ipykernel_3084116/3229511188.py:23: FutureWarning: The behavior of DataFrame concatenation with empty or all-NA entries is deprecated. In a future version, this will no longer exclude empty or all-NA columns when determining the result dtypes. To retain the old behavior, exclude the relevant entries before the concat operation.\n",
      "  filtered_data = pd.concat([filtered_data, filtered_rows], ignore_index=True)\n"
     ]
    },
    {
     "data": {
      "text/plain": [
       "'/home/noam.koren/multiTS/NFT/results/noaa_years/TimesNet/dlinear_horizon_20.xlsx'"
      ]
     },
     "execution_count": 4,
     "metadata": {},
     "output_type": "execute_result"
    }
   ],
   "source": [
    "import os\n",
    "import pandas as pd\n",
    "\n",
    "# Define the directory containing the Excel files and the output file name\n",
    "input_dir = \"/home/noam.koren/multiTS/NFT/results/noaa_years/TimesNet\"  # Replace with your directory path\n",
    "output_file = \"dlinear_horizon_20.xlsx\"\n",
    "\n",
    "# Initialize an empty DataFrame to collect filtered rows\n",
    "filtered_data = pd.DataFrame(columns=[\"Data\", \"Lookback\", \"Horizon\", \"test_mse\"])\n",
    "\n",
    "# Iterate over all Excel files in the directory\n",
    "for file_name in os.listdir(input_dir):\n",
    "    if file_name.endswith(\".xlsx\"):\n",
    "        file_path = os.path.join(input_dir, file_name)\n",
    "        # Read the Excel file\n",
    "        df = pd.read_excel(file_path)\n",
    "        # Filter rows where Horizon == 20\n",
    "        filtered_rows = df[df[\"Horizon\"] == 20]\n",
    "        # Select and rename the required columns\n",
    "        filtered_rows = filtered_rows[[\"Data\", \"Lookback\", \"Horizon\", \"test_mse\"]]\n",
    "        filtered_rows[\"Data\"] = filtered_rows[\"Data\"].str.replace(\"noaa_years_\", \"\", regex=False)\n",
    "        # Append to the main DataFrame\n",
    "        filtered_data = pd.concat([filtered_data, filtered_rows], ignore_index=True)\n",
    "\n",
    "# Save the collected data to a new Excel file\n",
    "output_path = os.path.join(input_dir, output_file)\n",
    "filtered_data.to_excel(output_path, index=False)\n",
    "\n",
    "output_path\n"
   ]
  },
  {
   "cell_type": "code",
   "execution_count": null,
   "metadata": {},
   "outputs": [],
   "source": []
  }
 ],
 "metadata": {
  "kernelspec": {
   "display_name": "nft",
   "language": "python",
   "name": "python3"
  },
  "language_info": {
   "codemirror_mode": {
    "name": "ipython",
    "version": 3
   },
   "file_extension": ".py",
   "mimetype": "text/x-python",
   "name": "python",
   "nbconvert_exporter": "python",
   "pygments_lexer": "ipython3",
   "version": "3.9.19"
  }
 },
 "nbformat": 4,
 "nbformat_minor": 2
}
