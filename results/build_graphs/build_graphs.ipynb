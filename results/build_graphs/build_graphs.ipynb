{
 "cells": [
  {
   "cell_type": "code",
   "execution_count": null,
   "metadata": {},
   "outputs": [],
   "source": [
    "import matplotlib as plt"
   ]
  },
  {
   "cell_type": "code",
   "execution_count": null,
   "metadata": {},
   "outputs": [],
   "source": [
    "# Generating plots with different line types and colors for each model\n",
    "line_styles = ['-', '--', ':']\n",
    "colors = ['blue', 'red', 'green']\n",
    "\n",
    "for metric in metrics:\n",
    "    for lookback in lookbacks:\n",
    "        fig, ax = plt.subplots(figsize=(10, 6))\n",
    "        for model, line_style, color in zip(models, line_styles, colors):\n",
    "            # Filter data for the current model, metric, and lookback\n",
    "            model_data = updated_data[updated_data['Lookback'] == lookback]\n",
    "\n",
    "            # Plotting the data with specific line style and color\n",
    "            ax.plot(model_data['Horizon'], model_data[f'{model} {metric}'], \n",
    "                    label=model, linestyle=line_style, color=color)\n",
    "\n",
    "        ax.set_xlabel('Horizon')\n",
    "        ax.set_ylabel(metric.replace('_', ' ').title())\n",
    "        ax.set_title(f'{metric.replace(\"_\", \" \").title()} for Lookback {lookback}')\n",
    "        ax.legend()\n",
    "        plt.grid(True)\n",
    "\n",
    "        # Save the plot in the dictionary\n",
    "        plot_name = f'{metric}_lookback_{lookback}.png'\n",
    "        plot_path = f'/mnt/data/{plot_name}'\n",
    "        plt.savefig(plot_path)\n",
    "        plots[(metric, lookback)] = plot_path\n",
    "\n",
    "        plt.close()\n",
    "\n",
    "# Displaying the paths of the saved plots\n",
    "plots\n"
   ]
  }
 ],
 "metadata": {
  "kernelspec": {
   "display_name": "multTS",
   "language": "python",
   "name": "python3"
  },
  "language_info": {
   "name": "python",
   "version": "3.9.16"
  }
 },
 "nbformat": 4,
 "nbformat_minor": 2
}
