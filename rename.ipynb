{
 "cells": [
  {
   "cell_type": "code",
   "execution_count": 8,
   "metadata": {},
   "outputs": [],
   "source": [
    "import os\n",
    "\n",
    "base_dir = '/home/noam.koren/multiTS/NFT/models/trained_models/noaa_single/nft'\n",
    "\n",
    "for item in os.listdir(base_dir):\n",
    "    item_path = os.path.join(base_dir, item)\n",
    "\n",
    "    # Check if it is a directory and starts with 'nbeats'\n",
    "    if os.path.isdir(item_path) and item.startswith('nbeats'):\n",
    "        new_dir_name = item.replace('nbeats', 'nft', 1)\n",
    "        new_dir_path = os.path.join(base_dir, new_dir_name)\n",
    "        \n",
    "        # Rename the directory\n",
    "        os.rename(item_path, new_dir_path)\n",
    "        \n",
    "        # Iterate over files in the newly renamed directory\n",
    "        for file in os.listdir(new_dir_path):\n",
    "            if file.startswith('nbeats'):\n",
    "                new_file_name = file.replace('nbeats', 'nft', 1)\n",
    "                new_file_path = os.path.join(new_dir_path, new_file_name)\n",
    "\n",
    "                # Rename the file\n",
    "                os.rename(os.path.join(new_dir_path, file), new_file_path)"
   ]
  },
  {
   "cell_type": "code",
   "execution_count": 37,
   "metadata": {},
   "outputs": [],
   "source": [
    "import warnings\n",
    "warnings.filterwarnings(\"ignore\", category=UserWarning, module=\"matplotlib\")\n",
    "\n",
    "\n",
    "\n",
    "import numpy as np\n",
    "import pickle\n",
    "import torch\n",
    "import os\n",
    "\n",
    "\n",
    "from sklearn.metrics import mean_absolute_error\n",
    "import numpy as np\n",
    "\n",
    "def calculate_mase(y_true, y_pred):\n",
    "    \"\"\"\n",
    "    Calculate the Mean Absolute Scaled Error (MASE)\n",
    "    :param y_true: The actual values\n",
    "    :param y_pred: The predicted values\n",
    "    :return: MASE\n",
    "    \"\"\"\n",
    "    y_true, y_pred = np.array(y_true.cpu()), np.array(y_pred.cpu())\n",
    "    # print(f\"y_true = {y_true}\")\n",
    "    # print(f\"y_pred = {y_pred.shape}\")\n",
    "    # Generate y_naive, where each value is the preceding value in y_true\n",
    "    y_naive = np.roll(y_true, 1)\n",
    "    y_naive[0] = y_true[0]  # Assuming the first value is the same, or you can exclude it\n",
    "\n",
    "    # print(f\"y_naive = {y_naive}\")\n",
    "    mae_pred = np.mean(np.abs(y_pred - y_true))\n",
    "    mae_naive = np.mean(np.abs(y_naive - y_true))\n",
    "    \n",
    "    print(f\"mae_pred-mean_absolute_error(y_true, y_pred)={mae_pred-mean_absolute_error(y_true, y_pred)}\")\n",
    "    print(f\"mae_naive-mean_absolute_error(y_true, y_naive)={mae_naive-mean_absolute_error(y_true, y_naive)}\")\n",
    "\n",
    "    print(f\"np.abs(y_pred - y_true) = {np.abs(y_pred - y_true)}\")\n",
    "    print(f\"np.abs(y_naive - y_true) = {np.abs(y_naive - y_true)}\")       \n",
    "    print(f\"mae_pred={mae_pred}\") \n",
    "    print(f\"mae_naive={mae_naive}\")\n",
    "    \n",
    "    print(f\"mae_pred / mae_naive={mae_pred / mae_naive if mae_naive != 0 else np.inf}\")\n",
    "    return mae_pred / mae_naive if mae_naive != 0 else np.inf"
   ]
  },
  {
   "cell_type": "code",
   "execution_count": 38,
   "metadata": {},
   "outputs": [],
   "source": [
    "y_true = torch.rand(10, 1)\n",
    "y_pred = torch.rand(10, 1)"
   ]
  },
  {
   "cell_type": "code",
   "execution_count": 39,
   "metadata": {},
   "outputs": [
    {
     "name": "stdout",
     "output_type": "stream",
     "text": [
      "mae_pred-mean_absolute_error(y_true, y_pred)=0.0\n",
      "mae_naive-mean_absolute_error(y_true, y_naive)=0.0\n",
      "np.abs(y_pred - y_true) = [[0.37503338]\n",
      " [0.07565683]\n",
      " [0.59374225]\n",
      " [0.4708131 ]\n",
      " [0.84894884]\n",
      " [0.7663437 ]\n",
      " [0.33273858]\n",
      " [0.44369727]\n",
      " [0.36289096]\n",
      " [0.5417536 ]]\n",
      "np.abs(y_naive - y_true) = [[0.        ]\n",
      " [0.16791677]\n",
      " [0.5187105 ]\n",
      " [0.20532191]\n",
      " [0.39222676]\n",
      " [0.8929644 ]\n",
      " [0.3438478 ]\n",
      " [0.20083255]\n",
      " [0.3467049 ]\n",
      " [0.20924872]]\n",
      "mae_pred=0.481161892414093\n",
      "mae_naive=0.3277774453163147\n",
      "mae_pred / mae_naive=1.4679529666900635\n"
     ]
    },
    {
     "data": {
      "text/plain": [
       "1.467953"
      ]
     },
     "execution_count": 39,
     "metadata": {},
     "output_type": "execute_result"
    }
   ],
   "source": [
    "calculate_mase(y_true, y_pred)"
   ]
  },
  {
   "cell_type": "code",
   "execution_count": null,
   "metadata": {},
   "outputs": [],
   "source": [
    "mae_pred=0.35491427779197693\n",
    "mae_naive=0.3136926591396332\n",
    "mae_pred / mae_naive=1.131407618522644\n",
    "1.1314076"
   ]
  }
 ],
 "metadata": {
  "kernelspec": {
   "display_name": "multTS",
   "language": "python",
   "name": "python3"
  },
  "language_info": {
   "codemirror_mode": {
    "name": "ipython",
    "version": 3
   },
   "file_extension": ".py",
   "mimetype": "text/x-python",
   "name": "python",
   "nbconvert_exporter": "python",
   "pygments_lexer": "ipython3",
   "version": "3.9.16"
  }
 },
 "nbformat": 4,
 "nbformat_minor": 2
}
