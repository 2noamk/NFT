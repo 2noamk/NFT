{
 "cells": [
  {
   "cell_type": "code",
   "execution_count": 8,
   "metadata": {},
   "outputs": [],
   "source": [
    "import os\n",
    "\n",
    "base_dir = '/home/noam.koren/multiTS/NFT/models/trained_models/noaa_single/nft'\n",
    "\n",
    "for item in os.listdir(base_dir):\n",
    "    item_path = os.path.join(base_dir, item)\n",
    "\n",
    "    # Check if it is a directory and starts with 'nbeats'\n",
    "    if os.path.isdir(item_path) and item.startswith('nbeats'):\n",
    "        new_dir_name = item.replace('nbeats', 'nft', 1)\n",
    "        new_dir_path = os.path.join(base_dir, new_dir_name)\n",
    "        \n",
    "        # Rename the directory\n",
    "        os.rename(item_path, new_dir_path)\n",
    "        \n",
    "        # Iterate over files in the newly renamed directory\n",
    "        for file in os.listdir(new_dir_path):\n",
    "            if file.startswith('nbeats'):\n",
    "                new_file_name = file.replace('nbeats', 'nft', 1)\n",
    "                new_file_path = os.path.join(new_dir_path, new_file_name)\n",
    "\n",
    "                # Rename the file\n",
    "                os.rename(os.path.join(new_dir_path, file), new_file_path)"
   ]
  },
  {
   "cell_type": "code",
   "execution_count": null,
   "metadata": {},
   "outputs": [],
   "source": []
  }
 ],
 "metadata": {
  "kernelspec": {
   "display_name": "multTS",
   "language": "python",
   "name": "python3"
  },
  "language_info": {
   "codemirror_mode": {
    "name": "ipython",
    "version": 3
   },
   "file_extension": ".py",
   "mimetype": "text/x-python",
   "name": "python",
   "nbconvert_exporter": "python",
   "pygments_lexer": "ipython3",
   "version": "3.9.16"
  }
 },
 "nbformat": 4,
 "nbformat_minor": 2
}
