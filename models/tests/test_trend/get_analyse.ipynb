{
 "cells": [
  {
   "cell_type": "code",
   "execution_count": 7,
   "metadata": {},
   "outputs": [],
   "source": [
    "\n",
    "import pandas as pd\n",
    "\n",
    "def find_best_row(group):\n",
    "    min_all = group.loc[(group['test_mse'] == group['test_mse'].min()) & \n",
    "                        (group['test_smape'] == group['test_smape'].min()) & \n",
    "                        (group['test_mase'] == group['test_mase'].min())]\n",
    "\n",
    "    if not min_all.empty:\n",
    "        return min_all.iloc[0]\n",
    "    \n",
    "    for metric_combination in [('test_mse', 'test_smape'), ('test_mse', 'test_mase'), ('test_smape', 'test_mase')]:\n",
    "        min_two = group.loc[(group[metric_combination[0]] == group[metric_combination[0]].min()) & \n",
    "                            (group[metric_combination[1]] == group[metric_combination[1]].min())]\n",
    "        if not min_two.empty:\n",
    "            return min_two.iloc[0]\n",
    "        \n",
    "    return group.loc[group['test_mase'] == group['test_mase'].min()].iloc[0]\n",
    "\n",
    "base_path = f\"/home/noam.koren/multiTS/NFT/models/tests/test_trend/\"\n",
    "df = pd.read_excel(f'{base_path}evaluate_sinusodial_trend_on_syntatic_data.xlsx')\n",
    "\n",
    "poly_true = df[df['Is Poly'] == True]\n",
    "poly_false = df[df['Is Poly'] == False]\n",
    "\n",
    "best_rows_poly_true = poly_true.groupby(['Lookback', 'Horizon', 'Vars']).apply(find_best_row).reset_index(drop=True)"
   ]
  },
  {
   "cell_type": "code",
   "execution_count": 11,
   "metadata": {},
   "outputs": [
    {
     "name": "stdout",
     "output_type": "stream",
     "text": [
      "(1266, 11)\n",
      "(632, 11)\n",
      "(634, 11)\n",
      "(53, 11)\n"
     ]
    }
   ],
   "source": [
    "print(df.shape)\n",
    "print(poly_true.shape)\n",
    "print(poly_false.shape)\n",
    "print(best_rows_poly_true.shape)"
   ]
  },
  {
   "cell_type": "code",
   "execution_count": 12,
   "metadata": {},
   "outputs": [],
   "source": [
    "\n",
    "import pandas as pd\n",
    "\n",
    "def find_best_row(group):\n",
    "    min_all = group.loc[(group['test_mse'] == group['test_mse'].min()) & \n",
    "                        (group['test_smape'] == group['test_smape'].min()) & \n",
    "                        (group['test_mase'] == group['test_mase'].min())]\n",
    "\n",
    "    if not min_all.empty:\n",
    "        return min_all.iloc[0]\n",
    "    \n",
    "    for metric_combination in [('test_mse', 'test_smape'), ('test_mse', 'test_mase'), ('test_smape', 'test_mase')]:\n",
    "        min_two = group.loc[(group[metric_combination[0]] == group[metric_combination[0]].min()) & \n",
    "                            (group[metric_combination[1]] == group[metric_combination[1]].min())]\n",
    "        if not min_two.empty:\n",
    "            return min_two.iloc[0]\n",
    "        \n",
    "    return group.loc[group['test_mase'] == group['test_mase'].min()].iloc[0]\n",
    "\n",
    "base_path = f\"/home/noam.koren/multiTS/NFT/models/tests/test_trend/\"\n",
    "df = pd.read_excel(f'{base_path}evaluate_sinusodial_trend_on_syntatic_data.xlsx')\n",
    "\n",
    "poly_true = df[df['Is Poly'] == True]\n",
    "poly_false = df[df['Is Poly'] == False]\n",
    "\n",
    "best_rows_poly_true = poly_true.groupby(['Lookback', 'Horizon', 'Vars']).apply(find_best_row).reset_index(drop=True)\n",
    "best_rows_combined = pd.DataFrame()\n",
    "\n",
    "for _, row in best_rows_poly_true.iterrows():\n",
    "    matching_row = poly_false[\n",
    "        (poly_false['Lookback'] == row['Lookback']) & \n",
    "        (poly_false['Horizon'] == row['Horizon']) & \n",
    "        (poly_false['Vars'] == row['Vars']) & \n",
    "        (poly_false['Epochs'] == row['Epochs']) & \n",
    "        (poly_false['Stacks'] == row['Stacks']) & \n",
    "        (poly_false['Dagree'] == row['Dagree']) & \n",
    "        (poly_false['Blocks'] == row['Blocks'])\n",
    "    ]\n",
    "    best_rows_combined = pd.concat([best_rows_combined, pd.DataFrame([row])], ignore_index=True)\n",
    "    if not matching_row.empty:\n",
    "        best_rows_combined = pd.concat([best_rows_combined, matching_row.head(1)], ignore_index=True)\n",
    "\n",
    "if best_rows_combined.empty:\n",
    "    print(\"No matching rows were found.\")\n",
    "else:\n",
    "    best_rows_combined.to_excel(f'{base_path}best_rows_combined.xlsx', index=False)\n"
   ]
  },
  {
   "cell_type": "code",
   "execution_count": 14,
   "metadata": {},
   "outputs": [],
   "source": [
    "import pandas as pd\n",
    "\n",
    "# Load the combined Excel file\n",
    "best_combined = pd.read_excel('/home/noam.koren/multiTS/NFT/models/tests/test_trend/best_rows_combined.xlsx')\n",
    "\n",
    "# Initialize the new column with NaN (Not a Number)\n",
    "best_combined['Poly_Performance'] = pd.NA\n",
    "\n",
    "# Define the metrics you want to compare. You can add more metrics here based on your actual data.\n",
    "metrics = ['test_mse', 'test_smape', 'test_mase']\n",
    "\n",
    "# Sort the dataframe for correct row comparisons\n",
    "best_combined.sort_values(by=['Lookback', 'Horizon', 'Vars', 'Epochs', 'Stacks', 'Dagree', 'Blocks', 'Is Poly'], inplace=True)\n",
    "\n",
    "# Go over each two rows and compare their metrics\n",
    "for i in range(0, len(best_combined) - 1, 2):  # Step by 2 since we're comparing pairs\n",
    "    row_1 = best_combined.iloc[i]\n",
    "    row_2 = best_combined.iloc[i + 1]\n",
    "\n",
    "    # Assuming row_1 is Poly=True and row_2 is Poly=False because of sorting, if not, check and swap\n",
    "    if not row_1['Is Poly']:\n",
    "        row_1, row_2 = row_2, row_1  # Swap if the first row is not Poly=True\n",
    "    \n",
    "    # Compare the metrics\n",
    "    if all(row_1[metric] <= row_2[metric] for metric in metrics):\n",
    "        # If all metrics of row_1 (Poly=True) are better or equal\n",
    "        best_combined.at[i, 'Poly_Performance'] = 1\n",
    "        best_combined.at[i + 1, 'Poly_Performance'] = 0\n",
    "    elif all(row_2[metric] <= row_1[metric] for metric in metrics):\n",
    "        # If all metrics of row_2 (Poly=False) are better or equal\n",
    "        best_combined.at[i, 'Poly_Performance'] = 0\n",
    "        best_combined.at[i + 1, 'Poly_Performance'] = -1\n",
    "\n",
    "# Save the updated DataFrame back to Excel\n",
    "best_combined.to_excel('/home/noam.koren/multiTS/NFT/models/tests/test_trend/best_rows_combined_updated.xlsx', index=False)\n"
   ]
  },
  {
   "cell_type": "code",
   "execution_count": null,
   "metadata": {},
   "outputs": [],
   "source": []
  }
 ],
 "metadata": {
  "kernelspec": {
   "display_name": "multTS",
   "language": "python",
   "name": "python3"
  },
  "language_info": {
   "codemirror_mode": {
    "name": "ipython",
    "version": 3
   },
   "file_extension": ".py",
   "mimetype": "text/x-python",
   "name": "python",
   "nbconvert_exporter": "python",
   "pygments_lexer": "ipython3",
   "version": "3.9.16"
  }
 },
 "nbformat": 4,
 "nbformat_minor": 2
}
