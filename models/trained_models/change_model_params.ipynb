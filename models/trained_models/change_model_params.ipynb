{
 "cells": [
  {
   "cell_type": "code",
   "execution_count": null,
   "metadata": {},
   "outputs": [],
   "source": [
    "import torch\n",
    "import sys\n",
    "\n",
    "sys.path.append('/home/noam.koren/multiTS/NFT/models/NFT/')\n",
    "from NFT_NFT import NFT\n",
    "\n",
    "sys.path.append('/home/noam.koren/multiTS/NFT/')\n",
    "from dicts import data_to_num_vars_dict\n",
    "\n",
    "data = \"air_quality\"\n",
    "\n",
    "LOOKBACK = 5\n",
    "HORIZON = 1\n",
    "NUM_OF_VARS = data_to_num_vars_dict[data]\n",
    "blocks = 1\n",
    "epoch = 39\n",
    "\n",
    "n_people = 100\n",
    "\n",
    "device = torch.device(\"cuda\" if torch.cuda.is_available() else \"cpu\")\n",
    "\n",
    "path = f\"/home/noam.koren/multiTS/NFT/models/NFT/train_models/{data}/trained_models/\"\n",
    "model_path = f\"/home/noam.koren/multiTS/NFT/models/NFT/trained_models/{data}/trained_models/model_{LOOKBACK}l_{HORIZON}h_{blocks}blocks/models_during_train/model_checkpoint_epoch_{epoch}.pth\"\n",
    "model_object =  NFT(\n",
    "                forecast_length=HORIZON,\n",
    "                backcast_length=LOOKBACK,\n",
    "                n_vars=NUM_OF_VARS,\n",
    "                nb_blocks_per_stack=blocks,\n",
    "                ).to(device)\n",
    "\n",
    "# Load the state dictionary from the checkpoint\n",
    "state_dict = torch.load(model_path)\n",
    "\n",
    "# Modify the keys of the state dictionary\n",
    "adjusted_state_dict = {}\n",
    "for key, value in state_dict.items():\n",
    "    adjusted_key = \"model.\" + key\n",
    "    adjusted_state_dict[adjusted_key] = value\n",
    "\n",
    "# Load the adjusted state dictionary into the model\n",
    "model_object.load_state_dict(adjusted_state_dict)\n",
    "\n",
    "torch.save(adjusted_state_dict, model_path)\n",
    "\n"
   ]
  },
  {
   "cell_type": "code",
   "execution_count": 4,
   "metadata": {},
   "outputs": [
    {
     "data": {
      "text/plain": [
       "<All keys matched successfully>"
      ]
     },
     "execution_count": 4,
     "metadata": {},
     "output_type": "execute_result"
    }
   ],
   "source": [
    "model_object.load_state_dict(torch.load(model_path))\n"
   ]
  }
 ],
 "metadata": {
  "kernelspec": {
   "display_name": "myenv",
   "language": "python",
   "name": "python3"
  },
  "language_info": {
   "codemirror_mode": {
    "name": "ipython",
    "version": 3
   },
   "file_extension": ".py",
   "mimetype": "text/x-python",
   "name": "python",
   "nbconvert_exporter": "python",
   "pygments_lexer": "ipython3",
   "version": "3.9.16"
  },
  "orig_nbformat": 4
 },
 "nbformat": 4,
 "nbformat_minor": 2
}
